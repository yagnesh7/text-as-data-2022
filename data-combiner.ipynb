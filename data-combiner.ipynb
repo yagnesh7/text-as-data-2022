{
 "cells": [
  {
   "cell_type": "code",
   "execution_count": 25,
   "metadata": {},
   "outputs": [],
   "source": [
    "import pandas as pd\n",
    "from datetime import datetime\n",
    "import glob"
   ]
  },
  {
   "cell_type": "code",
   "execution_count": 26,
   "metadata": {},
   "outputs": [],
   "source": [
    "yes_dep_files = glob.glob(\"*-yes-dep.csv\")\n",
    "no_dep_files = glob.glob(\"*-non-dep.csv\")"
   ]
  },
  {
   "cell_type": "code",
   "execution_count": 27,
   "metadata": {},
   "outputs": [
    {
     "name": "stdout",
     "output_type": "stream",
     "text": [
      "(17467, 9)\n"
     ]
    }
   ],
   "source": [
    "yes_dep_dfs = []\n",
    "for f in yes_dep_files:\n",
    "    df = pd.read_csv(f)\n",
    "    df[\"year-month\"] = f[:7]\n",
    "    yes_dep_dfs.append(df)\n",
    "yes_dep_df = pd.concat(yes_dep_dfs)\n",
    "print(yes_dep_df.shape)"
   ]
  },
  {
   "cell_type": "code",
   "execution_count": 28,
   "metadata": {},
   "outputs": [
    {
     "name": "stdout",
     "output_type": "stream",
     "text": [
      "(17332, 100)\n"
     ]
    }
   ],
   "source": [
    "no_dep_dfs = []\n",
    "for f in no_dep_files:\n",
    "    df = pd.read_csv(f)\n",
    "    df[\"year-month\"] = f[:7]\n",
    "    no_dep_dfs.append(df)\n",
    "no_dep_df = pd.concat(no_dep_dfs)\n",
    "print(no_dep_df.shape)"
   ]
  },
  {
   "cell_type": "code",
   "execution_count": 29,
   "metadata": {},
   "outputs": [],
   "source": [
    "yes_dep_df = yes_dep_df[['author', \"year-month\", 'is_self', 'subreddit', 'subreddit_subscribers','title', 'selftext', 'post_length']]\n",
    "yes_dep_df[\"depressed\"] = 1\n",
    "\n",
    "no_dep_df = no_dep_df[['author', \"year-month\", 'is_self', 'subreddit', 'subreddit_subscribers','title', 'selftext']]\n",
    "no_dep_df[\"post_length\"] = no_dep_df[\"selftext\"].apply(lambda x: len(x.split(\" \")))\n",
    "no_dep_df[\"depressed\"] = 0\n",
    "\n",
    "all_dep_df = pd.concat([yes_dep_df,no_dep_df])\n",
    "all_dep_df = all_dep_df.drop_duplicates()"
   ]
  },
  {
   "cell_type": "code",
   "execution_count": 32,
   "metadata": {},
   "outputs": [],
   "source": [
    "all_dep_df.to_csv(\"all_dep_data.csv\", index=False)"
   ]
  },
  {
   "cell_type": "code",
   "execution_count": 33,
   "metadata": {},
   "outputs": [
    {
     "data": {
      "text/html": [
       "<div>\n",
       "<style scoped>\n",
       "    .dataframe tbody tr th:only-of-type {\n",
       "        vertical-align: middle;\n",
       "    }\n",
       "\n",
       "    .dataframe tbody tr th {\n",
       "        vertical-align: top;\n",
       "    }\n",
       "\n",
       "    .dataframe thead th {\n",
       "        text-align: right;\n",
       "    }\n",
       "</style>\n",
       "<table border=\"1\" class=\"dataframe\">\n",
       "  <thead>\n",
       "    <tr style=\"text-align: right;\">\n",
       "      <th></th>\n",
       "      <th>author</th>\n",
       "      <th>year-month</th>\n",
       "      <th>is_self</th>\n",
       "      <th>subreddit</th>\n",
       "      <th>subreddit_subscribers</th>\n",
       "      <th>title</th>\n",
       "      <th>selftext</th>\n",
       "      <th>post_length</th>\n",
       "      <th>depressed</th>\n",
       "    </tr>\n",
       "  </thead>\n",
       "  <tbody>\n",
       "    <tr>\n",
       "      <th>0</th>\n",
       "      <td>--liveitup</td>\n",
       "      <td>2019-01</td>\n",
       "      <td>True</td>\n",
       "      <td>hacking</td>\n",
       "      <td>647687</td>\n",
       "      <td>Hulu account hacked. Genuinely interested in h...</td>\n",
       "      <td>Secure wifi, only use Hulu through a Roku stic...</td>\n",
       "      <td>183</td>\n",
       "      <td>1</td>\n",
       "    </tr>\n",
       "    <tr>\n",
       "      <th>1</th>\n",
       "      <td>-RL-Lokei</td>\n",
       "      <td>2019-01</td>\n",
       "      <td>True</td>\n",
       "      <td>starcitizen</td>\n",
       "      <td>148021</td>\n",
       "      <td>Yela jumptown/ druglab location</td>\n",
       "      <td>Hi all,\\n\\nBefore you refer me onto videos of ...</td>\n",
       "      <td>64</td>\n",
       "      <td>1</td>\n",
       "    </tr>\n",
       "    <tr>\n",
       "      <th>2</th>\n",
       "      <td>-aegon-</td>\n",
       "      <td>2019-01</td>\n",
       "      <td>True</td>\n",
       "      <td>Judaism</td>\n",
       "      <td>29423</td>\n",
       "      <td>Advice for a poor convert-to-be?</td>\n",
       "      <td>How can I tell my religious Christian family t...</td>\n",
       "      <td>44</td>\n",
       "      <td>1</td>\n",
       "    </tr>\n",
       "    <tr>\n",
       "      <th>3</th>\n",
       "      <td>0haltja16</td>\n",
       "      <td>2019-01</td>\n",
       "      <td>True</td>\n",
       "      <td>confession</td>\n",
       "      <td>1149851</td>\n",
       "      <td>I cheated on a 5 year old’s AR tests</td>\n",
       "      <td>In grade school the older kids were forced to ...</td>\n",
       "      <td>115</td>\n",
       "      <td>1</td>\n",
       "    </tr>\n",
       "    <tr>\n",
       "      <th>4</th>\n",
       "      <td>101kbye</td>\n",
       "      <td>2019-01</td>\n",
       "      <td>True</td>\n",
       "      <td>AskWomenOver30</td>\n",
       "      <td>31874</td>\n",
       "      <td>Has anyone taken a sabbatical and what was rea...</td>\n",
       "      <td>I’m not burnt out at work but I want a 3 month...</td>\n",
       "      <td>174</td>\n",
       "      <td>1</td>\n",
       "    </tr>\n",
       "    <tr>\n",
       "      <th>...</th>\n",
       "      <td>...</td>\n",
       "      <td>...</td>\n",
       "      <td>...</td>\n",
       "      <td>...</td>\n",
       "      <td>...</td>\n",
       "      <td>...</td>\n",
       "      <td>...</td>\n",
       "      <td>...</td>\n",
       "      <td>...</td>\n",
       "    </tr>\n",
       "    <tr>\n",
       "      <th>637</th>\n",
       "      <td>teymourbeydoun</td>\n",
       "      <td>2020-12</td>\n",
       "      <td>True</td>\n",
       "      <td>Inception</td>\n",
       "      <td>7370</td>\n",
       "      <td>Am I missing Behind-the-Scenes footage on Blu-...</td>\n",
       "      <td>Hello, I’ve just bought the 4K UHD Christopher...</td>\n",
       "      <td>69</td>\n",
       "      <td>0</td>\n",
       "    </tr>\n",
       "    <tr>\n",
       "      <th>638</th>\n",
       "      <td>HoopsFella</td>\n",
       "      <td>2020-12</td>\n",
       "      <td>True</td>\n",
       "      <td>NBAtradeideas</td>\n",
       "      <td>936</td>\n",
       "      <td>Surprise Harden Destinations</td>\n",
       "      <td>Curious where people think Harden could end up...</td>\n",
       "      <td>123</td>\n",
       "      <td>0</td>\n",
       "    </tr>\n",
       "    <tr>\n",
       "      <th>639</th>\n",
       "      <td>friedshrimpt</td>\n",
       "      <td>2020-12</td>\n",
       "      <td>True</td>\n",
       "      <td>Pratt</td>\n",
       "      <td>490</td>\n",
       "      <td>Is Pratt requiring ACT scores?</td>\n",
       "      <td>My score is very low (23). My gpa is a weighte...</td>\n",
       "      <td>31</td>\n",
       "      <td>0</td>\n",
       "    </tr>\n",
       "    <tr>\n",
       "      <th>640</th>\n",
       "      <td>zorbsthegreat</td>\n",
       "      <td>2020-12</td>\n",
       "      <td>True</td>\n",
       "      <td>MRKH</td>\n",
       "      <td>288</td>\n",
       "      <td>Tracking Hormonal Cycles and mood shifts with ...</td>\n",
       "      <td>I have been diagnoses since 17 and Im 23 now, ...</td>\n",
       "      <td>194</td>\n",
       "      <td>0</td>\n",
       "    </tr>\n",
       "    <tr>\n",
       "      <th>641</th>\n",
       "      <td>destructionator10</td>\n",
       "      <td>2020-12</td>\n",
       "      <td>True</td>\n",
       "      <td>nightterrors</td>\n",
       "      <td>987</td>\n",
       "      <td>Lost girlfriend cause of night terror</td>\n",
       "      <td>I had just met this amazing girl.  She was sma...</td>\n",
       "      <td>173</td>\n",
       "      <td>0</td>\n",
       "    </tr>\n",
       "  </tbody>\n",
       "</table>\n",
       "<p>34795 rows × 9 columns</p>\n",
       "</div>"
      ],
      "text/plain": [
       "                author year-month  is_self       subreddit  \\\n",
       "0           --liveitup    2019-01     True         hacking   \n",
       "1            -RL-Lokei    2019-01     True     starcitizen   \n",
       "2              -aegon-    2019-01     True         Judaism   \n",
       "3            0haltja16    2019-01     True      confession   \n",
       "4              101kbye    2019-01     True  AskWomenOver30   \n",
       "..                 ...        ...      ...             ...   \n",
       "637     teymourbeydoun    2020-12     True       Inception   \n",
       "638         HoopsFella    2020-12     True   NBAtradeideas   \n",
       "639       friedshrimpt    2020-12     True           Pratt   \n",
       "640      zorbsthegreat    2020-12     True            MRKH   \n",
       "641  destructionator10    2020-12     True    nightterrors   \n",
       "\n",
       "     subreddit_subscribers                                              title  \\\n",
       "0                   647687  Hulu account hacked. Genuinely interested in h...   \n",
       "1                   148021                    Yela jumptown/ druglab location   \n",
       "2                    29423                   Advice for a poor convert-to-be?   \n",
       "3                  1149851               I cheated on a 5 year old’s AR tests   \n",
       "4                    31874  Has anyone taken a sabbatical and what was rea...   \n",
       "..                     ...                                                ...   \n",
       "637                   7370  Am I missing Behind-the-Scenes footage on Blu-...   \n",
       "638                    936                       Surprise Harden Destinations   \n",
       "639                    490                     Is Pratt requiring ACT scores?   \n",
       "640                    288  Tracking Hormonal Cycles and mood shifts with ...   \n",
       "641                    987              Lost girlfriend cause of night terror   \n",
       "\n",
       "                                              selftext  post_length  depressed  \n",
       "0    Secure wifi, only use Hulu through a Roku stic...          183          1  \n",
       "1    Hi all,\\n\\nBefore you refer me onto videos of ...           64          1  \n",
       "2    How can I tell my religious Christian family t...           44          1  \n",
       "3    In grade school the older kids were forced to ...          115          1  \n",
       "4    I’m not burnt out at work but I want a 3 month...          174          1  \n",
       "..                                                 ...          ...        ...  \n",
       "637  Hello, I’ve just bought the 4K UHD Christopher...           69          0  \n",
       "638  Curious where people think Harden could end up...          123          0  \n",
       "639  My score is very low (23). My gpa is a weighte...           31          0  \n",
       "640  I have been diagnoses since 17 and Im 23 now, ...          194          0  \n",
       "641  I had just met this amazing girl.  She was sma...          173          0  \n",
       "\n",
       "[34795 rows x 9 columns]"
      ]
     },
     "execution_count": 33,
     "metadata": {},
     "output_type": "execute_result"
    }
   ],
   "source": [
    "all_dep_df"
   ]
  },
  {
   "cell_type": "code",
   "execution_count": 24,
   "metadata": {},
   "outputs": [
    {
     "data": {
      "text/plain": [
       "'2020-12-non-dep.csv'"
      ]
     },
     "execution_count": 24,
     "metadata": {},
     "output_type": "execute_result"
    }
   ],
   "source": [
    "f"
   ]
  },
  {
   "cell_type": "code",
   "execution_count": null,
   "metadata": {},
   "outputs": [],
   "source": []
  }
 ],
 "metadata": {
  "interpreter": {
   "hash": "2b8ad5179c5cbf4f014799a3845c0823a20ad2c56229864a15d472d8cf0fb047"
  },
  "kernelspec": {
   "display_name": "Python 3.8.5 ('base')",
   "language": "python",
   "name": "python3"
  },
  "language_info": {
   "codemirror_mode": {
    "name": "ipython",
    "version": 3
   },
   "file_extension": ".py",
   "mimetype": "text/x-python",
   "name": "python",
   "nbconvert_exporter": "python",
   "pygments_lexer": "ipython3",
   "version": "3.8.5"
  },
  "orig_nbformat": 4
 },
 "nbformat": 4,
 "nbformat_minor": 2
}
