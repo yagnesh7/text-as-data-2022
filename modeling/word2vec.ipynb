{
 "cells": [
  {
   "cell_type": "code",
   "execution_count": 1,
   "metadata": {},
   "outputs": [
    {
     "name": "stderr",
     "output_type": "stream",
     "text": [
      "[nltk_data] Downloading package stopwords to\n",
      "[nltk_data]     C:\\Users\\yagne\\AppData\\Roaming\\nltk_data...\n",
      "[nltk_data]   Package stopwords is already up-to-date!\n"
     ]
    }
   ],
   "source": [
    "import os\n",
    "import numpy as np\n",
    "import matplotlib.pyplot as plt\n",
    "import pandas as pd\n",
    "from gensim.models import Word2Vec\n",
    "# Cleaning the texts\n",
    "import re\n",
    "import regex\n",
    "import nltk\n",
    "\n",
    "nltk.download('stopwords')\n",
    "from nltk.corpus import stopwords\n",
    "from nltk.stem import PorterStemmer\n",
    "from time import time"
   ]
  },
  {
   "cell_type": "code",
   "execution_count": 2,
   "metadata": {},
   "outputs": [],
   "source": [
    "# Importing the dataset\n",
    "# dataset = pd.read_csv('preprocess_final.csv')\n",
    "dataset = pd.read_csv(\"data/final_processed_data.csv\")"
   ]
  },
  {
   "cell_type": "code",
   "execution_count": 3,
   "metadata": {},
   "outputs": [],
   "source": [
    "dataset[\"cleaned_text\"] = dataset[\"cleaned_text\"].apply(lambda x:  x.encode(\"latin\", \"ignore\").decode(\"utf-8\", \"ignore\"))"
   ]
  },
  {
   "cell_type": "code",
   "execution_count": 5,
   "metadata": {},
   "outputs": [
    {
     "data": {
      "text/html": [
       "<div>\n",
       "<style scoped>\n",
       "    .dataframe tbody tr th:only-of-type {\n",
       "        vertical-align: middle;\n",
       "    }\n",
       "\n",
       "    .dataframe tbody tr th {\n",
       "        vertical-align: top;\n",
       "    }\n",
       "\n",
       "    .dataframe thead th {\n",
       "        text-align: right;\n",
       "    }\n",
       "</style>\n",
       "<table border=\"1\" class=\"dataframe\">\n",
       "  <thead>\n",
       "    <tr style=\"text-align: right;\">\n",
       "      <th></th>\n",
       "      <th>author</th>\n",
       "      <th>selftext</th>\n",
       "      <th>created_utc</th>\n",
       "      <th>subreddit</th>\n",
       "      <th>subreddit_subscribers</th>\n",
       "      <th>title</th>\n",
       "      <th>date</th>\n",
       "      <th>year-month</th>\n",
       "      <th>post_length</th>\n",
       "      <th>depression</th>\n",
       "      <th>full_text</th>\n",
       "      <th>cleaned_text</th>\n",
       "    </tr>\n",
       "  </thead>\n",
       "  <tbody>\n",
       "    <tr>\n",
       "      <th>0</th>\n",
       "      <td>--PunPun--</td>\n",
       "      <td>I'm a relatively new Evelynn player and right ...</td>\n",
       "      <td>1587305577</td>\n",
       "      <td>EvelynnMains</td>\n",
       "      <td>14681</td>\n",
       "      <td>Has anyone made a detailed spreadsheet of her ...</td>\n",
       "      <td>2020-04-19 10:12:57</td>\n",
       "      <td>2020-04</td>\n",
       "      <td>51</td>\n",
       "      <td>1.0</td>\n",
       "      <td>Has anyone made a detailed spreadsheet of her ...</td>\n",
       "      <td>has_anyone make detailed spreadsheet matchup l...</td>\n",
       "    </tr>\n",
       "    <tr>\n",
       "      <th>1</th>\n",
       "      <td>--jyushimatsudesu</td>\n",
       "      <td>\"my arm hurt this morning and i prayed and now...</td>\n",
       "      <td>1552057727</td>\n",
       "      <td>exchristian</td>\n",
       "      <td>48153</td>\n",
       "      <td>so self centered</td>\n",
       "      <td>2019-03-08 10:08:47</td>\n",
       "      <td>2019-03</td>\n",
       "      <td>88</td>\n",
       "      <td>1.0</td>\n",
       "      <td>so self centered \"my arm hurt this morning and...</td>\n",
       "      <td>self center my_arm hurt this_morning pray it_d...</td>\n",
       "    </tr>\n",
       "    <tr>\n",
       "      <th>2</th>\n",
       "      <td>--jyushimatsudesu</td>\n",
       "      <td>(warning : very sappy, i'm sorry, she's just g...</td>\n",
       "      <td>1552258247</td>\n",
       "      <td>teenagers</td>\n",
       "      <td>1226850</td>\n",
       "      <td>letter to my crush ♥</td>\n",
       "      <td>2019-03-10 18:50:47</td>\n",
       "      <td>2019-03</td>\n",
       "      <td>186</td>\n",
       "      <td>1.0</td>\n",
       "      <td>letter to my crush ♥ (warning : very sappy, i'...</td>\n",
       "      <td>letter my_crush warning sappy am_sorry she_is ...</td>\n",
       "    </tr>\n",
       "    <tr>\n",
       "      <th>3</th>\n",
       "      <td>--jyushimatsudesu</td>\n",
       "      <td>being watched, 24/7?? like, imagine if someone...</td>\n",
       "      <td>1553425235</td>\n",
       "      <td>exchristian</td>\n",
       "      <td>48201</td>\n",
       "      <td>do Christians actually think about this?</td>\n",
       "      <td>2019-03-24 07:00:35</td>\n",
       "      <td>2019-03</td>\n",
       "      <td>117</td>\n",
       "      <td>1.0</td>\n",
       "      <td>do Christians actually think about this? being...</td>\n",
       "      <td>christian actually think_about watch 247 like ...</td>\n",
       "    </tr>\n",
       "    <tr>\n",
       "      <th>4</th>\n",
       "      <td>--jyushimatsudesu</td>\n",
       "      <td>i don't mean what happens when you feel you're...</td>\n",
       "      <td>1554040237</td>\n",
       "      <td>TooAfraidToAsk</td>\n",
       "      <td>578671</td>\n",
       "      <td>who else suddenly jolts awake from a light sle...</td>\n",
       "      <td>2019-03-31 09:50:37</td>\n",
       "      <td>2019-03</td>\n",
       "      <td>51</td>\n",
       "      <td>1.0</td>\n",
       "      <td>who else suddenly jolts awake from a light sle...</td>\n",
       "      <td>who_else suddenly jolt awake light sleep no_re...</td>\n",
       "    </tr>\n",
       "  </tbody>\n",
       "</table>\n",
       "</div>"
      ],
      "text/plain": [
       "              author                                           selftext  \\\n",
       "0         --PunPun--  I'm a relatively new Evelynn player and right ...   \n",
       "1  --jyushimatsudesu  \"my arm hurt this morning and i prayed and now...   \n",
       "2  --jyushimatsudesu  (warning : very sappy, i'm sorry, she's just g...   \n",
       "3  --jyushimatsudesu  being watched, 24/7?? like, imagine if someone...   \n",
       "4  --jyushimatsudesu  i don't mean what happens when you feel you're...   \n",
       "\n",
       "   created_utc       subreddit  subreddit_subscribers  \\\n",
       "0   1587305577    EvelynnMains                  14681   \n",
       "1   1552057727     exchristian                  48153   \n",
       "2   1552258247       teenagers                1226850   \n",
       "3   1553425235     exchristian                  48201   \n",
       "4   1554040237  TooAfraidToAsk                 578671   \n",
       "\n",
       "                                               title                 date  \\\n",
       "0  Has anyone made a detailed spreadsheet of her ...  2020-04-19 10:12:57   \n",
       "1                                   so self centered  2019-03-08 10:08:47   \n",
       "2                               letter to my crush ♥  2019-03-10 18:50:47   \n",
       "3           do Christians actually think about this?  2019-03-24 07:00:35   \n",
       "4  who else suddenly jolts awake from a light sle...  2019-03-31 09:50:37   \n",
       "\n",
       "  year-month  post_length  depression  \\\n",
       "0    2020-04           51         1.0   \n",
       "1    2019-03           88         1.0   \n",
       "2    2019-03          186         1.0   \n",
       "3    2019-03          117         1.0   \n",
       "4    2019-03           51         1.0   \n",
       "\n",
       "                                           full_text  \\\n",
       "0  Has anyone made a detailed spreadsheet of her ...   \n",
       "1  so self centered \"my arm hurt this morning and...   \n",
       "2  letter to my crush ♥ (warning : very sappy, i'...   \n",
       "3  do Christians actually think about this? being...   \n",
       "4  who else suddenly jolts awake from a light sle...   \n",
       "\n",
       "                                        cleaned_text  \n",
       "0  has_anyone make detailed spreadsheet matchup l...  \n",
       "1  self center my_arm hurt this_morning pray it_d...  \n",
       "2  letter my_crush warning sappy am_sorry she_is ...  \n",
       "3  christian actually think_about watch 247 like ...  \n",
       "4  who_else suddenly jolt awake light sleep no_re...  "
      ]
     },
     "execution_count": 5,
     "metadata": {},
     "output_type": "execute_result"
    }
   ],
   "source": [
    "dataset.head()"
   ]
  },
  {
   "cell_type": "code",
   "execution_count": 6,
   "metadata": {},
   "outputs": [],
   "source": [
    "dataset = dataset.loc[dataset[\"cleaned_text\"] != \"\"]"
   ]
  },
  {
   "cell_type": "code",
   "execution_count": 7,
   "metadata": {},
   "outputs": [
    {
     "data": {
      "text/plain": [
       "Counter({1.0: 48009, 0.0: 56052})"
      ]
     },
     "execution_count": 7,
     "metadata": {},
     "output_type": "execute_result"
    }
   ],
   "source": [
    "from collections import Counter\n",
    "Counter(dataset[\"depression\"].tolist())\n"
   ]
  },
  {
   "cell_type": "code",
   "execution_count": 8,
   "metadata": {},
   "outputs": [],
   "source": [
    "dataset[\"depression\"] = dataset[\"depression\"].astype(int)"
   ]
  },
  {
   "cell_type": "code",
   "execution_count": 9,
   "metadata": {},
   "outputs": [],
   "source": [
    "dataset = dataset.dropna()"
   ]
  },
  {
   "cell_type": "code",
   "execution_count": 10,
   "metadata": {},
   "outputs": [],
   "source": [
    "# dataset = dataset.sample(frac=0.1) #Change here"
   ]
  },
  {
   "cell_type": "code",
   "execution_count": 11,
   "metadata": {},
   "outputs": [],
   "source": [
    "corpus = dataset[\"cleaned_text\"].tolist()"
   ]
  },
  {
   "cell_type": "code",
   "execution_count": 12,
   "metadata": {},
   "outputs": [
    {
     "data": {
      "text/html": [
       "<div>\n",
       "<style scoped>\n",
       "    .dataframe tbody tr th:only-of-type {\n",
       "        vertical-align: middle;\n",
       "    }\n",
       "\n",
       "    .dataframe tbody tr th {\n",
       "        vertical-align: top;\n",
       "    }\n",
       "\n",
       "    .dataframe thead th {\n",
       "        text-align: right;\n",
       "    }\n",
       "</style>\n",
       "<table border=\"1\" class=\"dataframe\">\n",
       "  <thead>\n",
       "    <tr style=\"text-align: right;\">\n",
       "      <th></th>\n",
       "      <th>author</th>\n",
       "      <th>selftext</th>\n",
       "      <th>created_utc</th>\n",
       "      <th>subreddit</th>\n",
       "      <th>subreddit_subscribers</th>\n",
       "      <th>title</th>\n",
       "      <th>date</th>\n",
       "      <th>year-month</th>\n",
       "      <th>post_length</th>\n",
       "      <th>depression</th>\n",
       "      <th>full_text</th>\n",
       "      <th>cleaned_text</th>\n",
       "    </tr>\n",
       "  </thead>\n",
       "  <tbody>\n",
       "    <tr>\n",
       "      <th>0</th>\n",
       "      <td>--PunPun--</td>\n",
       "      <td>I'm a relatively new Evelynn player and right ...</td>\n",
       "      <td>1587305577</td>\n",
       "      <td>EvelynnMains</td>\n",
       "      <td>14681</td>\n",
       "      <td>Has anyone made a detailed spreadsheet of her ...</td>\n",
       "      <td>2020-04-19 10:12:57</td>\n",
       "      <td>2020-04</td>\n",
       "      <td>51</td>\n",
       "      <td>1</td>\n",
       "      <td>Has anyone made a detailed spreadsheet of her ...</td>\n",
       "      <td>has_anyone make detailed spreadsheet matchup l...</td>\n",
       "    </tr>\n",
       "    <tr>\n",
       "      <th>1</th>\n",
       "      <td>--jyushimatsudesu</td>\n",
       "      <td>\"my arm hurt this morning and i prayed and now...</td>\n",
       "      <td>1552057727</td>\n",
       "      <td>exchristian</td>\n",
       "      <td>48153</td>\n",
       "      <td>so self centered</td>\n",
       "      <td>2019-03-08 10:08:47</td>\n",
       "      <td>2019-03</td>\n",
       "      <td>88</td>\n",
       "      <td>1</td>\n",
       "      <td>so self centered \"my arm hurt this morning and...</td>\n",
       "      <td>self center my_arm hurt this_morning pray it_d...</td>\n",
       "    </tr>\n",
       "    <tr>\n",
       "      <th>2</th>\n",
       "      <td>--jyushimatsudesu</td>\n",
       "      <td>(warning : very sappy, i'm sorry, she's just g...</td>\n",
       "      <td>1552258247</td>\n",
       "      <td>teenagers</td>\n",
       "      <td>1226850</td>\n",
       "      <td>letter to my crush ♥</td>\n",
       "      <td>2019-03-10 18:50:47</td>\n",
       "      <td>2019-03</td>\n",
       "      <td>186</td>\n",
       "      <td>1</td>\n",
       "      <td>letter to my crush ♥ (warning : very sappy, i'...</td>\n",
       "      <td>letter my_crush warning sappy am_sorry she_is ...</td>\n",
       "    </tr>\n",
       "    <tr>\n",
       "      <th>3</th>\n",
       "      <td>--jyushimatsudesu</td>\n",
       "      <td>being watched, 24/7?? like, imagine if someone...</td>\n",
       "      <td>1553425235</td>\n",
       "      <td>exchristian</td>\n",
       "      <td>48201</td>\n",
       "      <td>do Christians actually think about this?</td>\n",
       "      <td>2019-03-24 07:00:35</td>\n",
       "      <td>2019-03</td>\n",
       "      <td>117</td>\n",
       "      <td>1</td>\n",
       "      <td>do Christians actually think about this? being...</td>\n",
       "      <td>christian actually think_about watch 247 like ...</td>\n",
       "    </tr>\n",
       "    <tr>\n",
       "      <th>4</th>\n",
       "      <td>--jyushimatsudesu</td>\n",
       "      <td>i don't mean what happens when you feel you're...</td>\n",
       "      <td>1554040237</td>\n",
       "      <td>TooAfraidToAsk</td>\n",
       "      <td>578671</td>\n",
       "      <td>who else suddenly jolts awake from a light sle...</td>\n",
       "      <td>2019-03-31 09:50:37</td>\n",
       "      <td>2019-03</td>\n",
       "      <td>51</td>\n",
       "      <td>1</td>\n",
       "      <td>who else suddenly jolts awake from a light sle...</td>\n",
       "      <td>who_else suddenly jolt awake light sleep no_re...</td>\n",
       "    </tr>\n",
       "  </tbody>\n",
       "</table>\n",
       "</div>"
      ],
      "text/plain": [
       "              author                                           selftext  \\\n",
       "0         --PunPun--  I'm a relatively new Evelynn player and right ...   \n",
       "1  --jyushimatsudesu  \"my arm hurt this morning and i prayed and now...   \n",
       "2  --jyushimatsudesu  (warning : very sappy, i'm sorry, she's just g...   \n",
       "3  --jyushimatsudesu  being watched, 24/7?? like, imagine if someone...   \n",
       "4  --jyushimatsudesu  i don't mean what happens when you feel you're...   \n",
       "\n",
       "   created_utc       subreddit  subreddit_subscribers  \\\n",
       "0   1587305577    EvelynnMains                  14681   \n",
       "1   1552057727     exchristian                  48153   \n",
       "2   1552258247       teenagers                1226850   \n",
       "3   1553425235     exchristian                  48201   \n",
       "4   1554040237  TooAfraidToAsk                 578671   \n",
       "\n",
       "                                               title                 date  \\\n",
       "0  Has anyone made a detailed spreadsheet of her ...  2020-04-19 10:12:57   \n",
       "1                                   so self centered  2019-03-08 10:08:47   \n",
       "2                               letter to my crush ♥  2019-03-10 18:50:47   \n",
       "3           do Christians actually think about this?  2019-03-24 07:00:35   \n",
       "4  who else suddenly jolts awake from a light sle...  2019-03-31 09:50:37   \n",
       "\n",
       "  year-month  post_length  depression  \\\n",
       "0    2020-04           51           1   \n",
       "1    2019-03           88           1   \n",
       "2    2019-03          186           1   \n",
       "3    2019-03          117           1   \n",
       "4    2019-03           51           1   \n",
       "\n",
       "                                           full_text  \\\n",
       "0  Has anyone made a detailed spreadsheet of her ...   \n",
       "1  so self centered \"my arm hurt this morning and...   \n",
       "2  letter to my crush ♥ (warning : very sappy, i'...   \n",
       "3  do Christians actually think about this? being...   \n",
       "4  who else suddenly jolts awake from a light sle...   \n",
       "\n",
       "                                        cleaned_text  \n",
       "0  has_anyone make detailed spreadsheet matchup l...  \n",
       "1  self center my_arm hurt this_morning pray it_d...  \n",
       "2  letter my_crush warning sappy am_sorry she_is ...  \n",
       "3  christian actually think_about watch 247 like ...  \n",
       "4  who_else suddenly jolt awake light sleep no_re...  "
      ]
     },
     "execution_count": 12,
     "metadata": {},
     "output_type": "execute_result"
    }
   ],
   "source": [
    "dataset.head()"
   ]
  },
  {
   "cell_type": "code",
   "execution_count": 13,
   "metadata": {},
   "outputs": [
    {
     "name": "stderr",
     "output_type": "stream",
     "text": [
      "[nltk_data] Downloading package punkt to\n",
      "[nltk_data]     C:\\Users\\yagne\\AppData\\Roaming\\nltk_data...\n",
      "[nltk_data]   Package punkt is already up-to-date!\n"
     ]
    },
    {
     "data": {
      "text/plain": [
       "True"
      ]
     },
     "execution_count": 13,
     "metadata": {},
     "output_type": "execute_result"
    }
   ],
   "source": [
    "nltk.download('punkt')"
   ]
  },
  {
   "cell_type": "code",
   "execution_count": 14,
   "metadata": {},
   "outputs": [],
   "source": [
    "from nltk.tokenize import word_tokenize\n",
    "data_corpus = [word_tokenize(x) for x in corpus]"
   ]
  },
  {
   "cell_type": "code",
   "execution_count": 15,
   "metadata": {},
   "outputs": [],
   "source": [
    "model = Word2Vec(data_corpus, min_count = 3, vector_size = 300, window = 5)\n",
    "# glove_vectors = gensim.downloader.load('glove-twitter-25')"
   ]
  },
  {
   "cell_type": "code",
   "execution_count": null,
   "metadata": {},
   "outputs": [],
   "source": []
  },
  {
   "cell_type": "code",
   "execution_count": 16,
   "metadata": {},
   "outputs": [],
   "source": [
    "y = dataset[\"depression\"].tolist()"
   ]
  },
  {
   "cell_type": "code",
   "execution_count": 29,
   "metadata": {},
   "outputs": [],
   "source": [
    "X = []\n",
    "for sen in corpus:\n",
    "    temp = []\n",
    "    for tok in sen :\n",
    "        if tok in model.wv:\n",
    "            temp.append(model.wv[tok])\n",
    "        \n",
    "    X.append(temp)"
   ]
  },
  {
   "cell_type": "code",
   "execution_count": 34,
   "metadata": {},
   "outputs": [
    {
     "data": {
      "text/plain": [
       "(300,)"
      ]
     },
     "execution_count": 34,
     "metadata": {},
     "output_type": "execute_result"
    }
   ],
   "source": [
    "X[1][0].shape"
   ]
  },
  {
   "cell_type": "code",
   "execution_count": 35,
   "metadata": {},
   "outputs": [],
   "source": [
    "for i,x in enumerate(X):\n",
    "    if x == []:\n",
    "        X[i] = [np.zeros(shape=(300,))]"
   ]
  },
  {
   "cell_type": "code",
   "execution_count": null,
   "metadata": {},
   "outputs": [],
   "source": [
    "X_new[74576] = np.zeros(shape=(300,))"
   ]
  },
  {
   "cell_type": "code",
   "execution_count": 36,
   "metadata": {},
   "outputs": [],
   "source": [
    "X_new = [np.average(i, axis=0) for i in X]"
   ]
  },
  {
   "cell_type": "code",
   "execution_count": 38,
   "metadata": {},
   "outputs": [
    {
     "data": {
      "text/plain": [
       "(104061, 300)"
      ]
     },
     "execution_count": 38,
     "metadata": {},
     "output_type": "execute_result"
    }
   ],
   "source": [
    "X_new = np.array(X_new)\n",
    "X_new.shape"
   ]
  },
  {
   "cell_type": "code",
   "execution_count": 39,
   "metadata": {},
   "outputs": [],
   "source": [
    "# Splitting the dataset into the Training set and Test set\n",
    "from sklearn.model_selection import train_test_split\n",
    "\n",
    "X_train, X_test, y_train, y_test = train_test_split(X_new, y, test_size=0.2, random_state=0)"
   ]
  },
  {
   "cell_type": "code",
   "execution_count": 40,
   "metadata": {},
   "outputs": [],
   "source": [
    "from sklearn.naive_bayes import GaussianNB\n",
    "gnb = GaussianNB()\n",
    "y_pred = gnb.fit(X_train, y_train).predict(X_test)"
   ]
  },
  {
   "cell_type": "code",
   "execution_count": 41,
   "metadata": {},
   "outputs": [
    {
     "name": "stdout",
     "output_type": "stream",
     "text": [
      "[[4467 6752]\n",
      " [3200 6394]]\n",
      "0.5218373132177004 0.4863836908565343 0.6664582030435688 0.5623570800351803\n",
      "              precision    recall  f1-score   support\n",
      "\n",
      "           0       0.58      0.40      0.47     11219\n",
      "           1       0.49      0.67      0.56      9594\n",
      "\n",
      "    accuracy                           0.52     20813\n",
      "   macro avg       0.53      0.53      0.52     20813\n",
      "weighted avg       0.54      0.52      0.51     20813\n",
      "\n"
     ]
    }
   ],
   "source": [
    "from sklearn.metrics import confusion_matrix, precision_score, recall_score, f1_score, accuracy_score, classification_report\n",
    "\n",
    "cm2 = confusion_matrix(y_test, y_pred)\n",
    "print(cm2)\n",
    "\n",
    "a = accuracy_score(y_test, y_pred)\n",
    "p = precision_score(y_test, y_pred)\n",
    "r = recall_score(y_test, y_pred)\n",
    "f = f1_score(y_test, y_pred)\n",
    "print(a, p, r, f)\n",
    "print(classification_report(y_test, y_pred))"
   ]
  },
  {
   "cell_type": "code",
   "execution_count": null,
   "metadata": {},
   "outputs": [
    {
     "name": "stdout",
     "output_type": "stream",
     "text": [
      "[[7639 3580]\n",
      " [5805 3789]]\n",
      "0.5490799019843368 0.5141810286334645 0.3949343339587242 0.446737015858044\n",
      "              precision    recall  f1-score   support\n",
      "\n",
      "           0       0.57      0.68      0.62     11219\n",
      "           1       0.51      0.39      0.45      9594\n",
      "\n",
      "    accuracy                           0.55     20813\n",
      "   macro avg       0.54      0.54      0.53     20813\n",
      "weighted avg       0.54      0.55      0.54     20813\n",
      "\n"
     ]
    }
   ],
   "source": [
    "#########RandomForestClassifier\n",
    "# Fitting classifier to the Training set\n",
    "from sklearn.ensemble import RandomForestClassifier\n",
    "\n",
    "classifier = RandomForestClassifier(n_estimators=100, criterion=\"entropy\", random_state=0, n_jobs=-1)\n",
    "classifier.fit(X_train, y_train)\n",
    "# Predicting the Test set results\n",
    "y_pred = classifier.predict(X_test)\n",
    "cm2 = confusion_matrix(y_test, y_pred)\n",
    "print(cm2)\n",
    "\n",
    "a = accuracy_score(y_test, y_pred)\n",
    "p = precision_score(y_test, y_pred)\n",
    "r = recall_score(y_test, y_pred)\n",
    "f = f1_score(y_test, y_pred)\n",
    "print(a, p, r, f)\n",
    "\n",
    "print(classification_report(y_test, y_pred))"
   ]
  },
  {
   "cell_type": "code",
   "execution_count": null,
   "metadata": {},
   "outputs": [
    {
     "name": "stdout",
     "output_type": "stream",
     "text": [
      "[[8523 2696]\n",
      " [6458 3136]]\n",
      "0.5601787344448181 0.5377229080932785 0.3268709610173025 0.4065862828990017\n",
      "              precision    recall  f1-score   support\n",
      "\n",
      "           0       0.57      0.76      0.65     11219\n",
      "           1       0.54      0.33      0.41      9594\n",
      "\n",
      "    accuracy                           0.56     20813\n",
      "   macro avg       0.55      0.54      0.53     20813\n",
      "weighted avg       0.55      0.56      0.54     20813\n",
      "\n"
     ]
    },
    {
     "name": "stderr",
     "output_type": "stream",
     "text": [
      "c:\\Users\\yagne\\anaconda3\\envs\\common\\lib\\site-packages\\sklearn\\linear_model\\_logistic.py:814: ConvergenceWarning: lbfgs failed to converge (status=1):\n",
      "STOP: TOTAL NO. of ITERATIONS REACHED LIMIT.\n",
      "\n",
      "Increase the number of iterations (max_iter) or scale the data as shown in:\n",
      "    https://scikit-learn.org/stable/modules/preprocessing.html\n",
      "Please also refer to the documentation for alternative solver options:\n",
      "    https://scikit-learn.org/stable/modules/linear_model.html#logistic-regression\n",
      "  n_iter_i = _check_optimize_result(\n"
     ]
    }
   ],
   "source": [
    "from sklearn.linear_model import LogisticRegression\n",
    "lr = LogisticRegression(random_state=0)\n",
    "\n",
    "lr.fit(X_train, y_train)\n",
    "# Predicting the Test set results\n",
    "y_pred = lr.predict(X_test)\n",
    "cm2 = confusion_matrix(y_test, y_pred)\n",
    "print(cm2)\n",
    "\n",
    "a = accuracy_score(y_test, y_pred)\n",
    "p = precision_score(y_test, y_pred)\n",
    "r = recall_score(y_test, y_pred)\n",
    "f = f1_score(y_test, y_pred)\n",
    "print(a, p, r, f)\n",
    "print(classification_report(y_test, y_pred))"
   ]
  },
  {
   "cell_type": "code",
   "execution_count": null,
   "metadata": {},
   "outputs": [
    {
     "data": {
      "text/plain": [
       "'2.8.0'"
      ]
     },
     "execution_count": 135,
     "metadata": {},
     "output_type": "execute_result"
    }
   ],
   "source": [
    "import tensorflow as tf\n",
    "tf.__version__"
   ]
  },
  {
   "cell_type": "code",
   "execution_count": 42,
   "metadata": {},
   "outputs": [],
   "source": [
    "from tensorflow.keras.datasets import imdb\n",
    "from tensorflow.keras.layers import Embedding, Dense, LSTM\n",
    "from tensorflow.keras.losses import BinaryCrossentropy\n",
    "from tensorflow.keras.models import Sequential\n",
    "from tensorflow.keras.optimizers import Adam\n",
    "from tensorflow.keras.preprocessing.sequence import pad_sequences\n",
    "from tensorflow.keras.preprocessing.text import Tokenizer\n",
    "from tensorflow.keras.preprocessing.sequence import pad_sequences\n",
    "from tensorflow.keras.layers import Dense, Input, LSTM, Embedding, Dropout, Activation\n",
    "from tensorflow.keras.models import Model\n",
    "from tensorflow.keras.callbacks import EarlyStopping, ModelCheckpoint\n",
    "from tensorflow.keras.models import Sequential\n",
    "from tensorflow.keras import regularizers\n",
    "from tensorflow.keras import optimizers"
   ]
  },
  {
   "cell_type": "code",
   "execution_count": 43,
   "metadata": {},
   "outputs": [],
   "source": [
    "MAX_NB_WORDS = 200000\n",
    "tokenizer = Tokenizer(num_words=MAX_NB_WORDS)\n",
    "tokenizer.fit_on_texts(corpus)"
   ]
  },
  {
   "cell_type": "code",
   "execution_count": 44,
   "metadata": {},
   "outputs": [],
   "source": [
    "sequences = tokenizer.texts_to_sequences(corpus)"
   ]
  },
  {
   "cell_type": "code",
   "execution_count": 45,
   "metadata": {},
   "outputs": [],
   "source": [
    "word_index = tokenizer.word_index \n",
    "nb_words = min(MAX_NB_WORDS, len(word_index) + 1)\n",
    "EMBEDDING_DIM = 300"
   ]
  },
  {
   "cell_type": "code",
   "execution_count": 46,
   "metadata": {},
   "outputs": [],
   "source": [
    "embedding_matrix = np.zeros((nb_words, EMBEDDING_DIM))\n",
    "for word, i in word_index.items():\n",
    "    if i >= MAX_NB_WORDS:\n",
    "        continue\n",
    "    if word in model.wv:\n",
    "        embedding_matrix[i] = model.wv[word]\n",
    "\n"
   ]
  },
  {
   "cell_type": "code",
   "execution_count": 47,
   "metadata": {},
   "outputs": [],
   "source": [
    "MAX_SEQUENCE_LENGTH = 60\n",
    "data = pad_sequences(sequences, maxlen=MAX_SEQUENCE_LENGTH)\n",
    "labels = np.array(y)"
   ]
  },
  {
   "cell_type": "code",
   "execution_count": 68,
   "metadata": {},
   "outputs": [],
   "source": [
    "# cutting data set to 30k elenment \n",
    "num_train = int(len(data)*0.8)\n",
    "num_val = int(len(data)*0.1)\n",
    "perm = np.random.permutation(len(data))\n",
    "idx_train = perm[:num_train]\n",
    "idx_val = perm[num_train: num_train + num_val]\n",
    "idx_test = perm[num_train + num_val:]\n",
    "data_train = data[idx_train]\n",
    "data_val = data[idx_val]\n",
    "data_test = data[idx_test]\n",
    "label_train = labels[idx_train]\n",
    "label_val = labels[idx_val]\n",
    "label_test = labels[idx_test]"
   ]
  },
  {
   "cell_type": "code",
   "execution_count": 69,
   "metadata": {},
   "outputs": [
    {
     "data": {
      "text/plain": [
       "((83248,), (10407,), (10406,))"
      ]
     },
     "execution_count": 69,
     "metadata": {},
     "output_type": "execute_result"
    }
   ],
   "source": [
    "idx_train.shape, idx_test.shape, idx_val.shape"
   ]
  },
  {
   "cell_type": "code",
   "execution_count": 70,
   "metadata": {},
   "outputs": [],
   "source": [
    "from tensorflow.keras.layers import BatchNormalization\n",
    "\n",
    "# Define the Keras model\n",
    "model = Sequential()\n",
    "model.add(Embedding(nb_words, EMBEDDING_DIM, weights=[embedding_matrix], input_length=MAX_SEQUENCE_LENGTH, trainable=False))\n",
    "model.add(LSTM(128))\n",
    "model.add(Dropout(0.15))\n",
    "model.add(BatchNormalization())\n",
    "model.add(Dense(1, activation='sigmoid'))"
   ]
  },
  {
   "cell_type": "code",
   "execution_count": 71,
   "metadata": {},
   "outputs": [],
   "source": [
    "early_stopping =EarlyStopping(monitor='loss', patience=8)\n",
    "STAMP = 'lstm_model'\n",
    "bst_model_path = STAMP + '.h5'\n",
    "model_checkpoint = ModelCheckpoint(bst_model_path, save_best_only=True, save_weights_only=True)"
   ]
  },
  {
   "cell_type": "code",
   "execution_count": 72,
   "metadata": {},
   "outputs": [
    {
     "name": "stdout",
     "output_type": "stream",
     "text": [
      "Model: \"sequential_1\"\n",
      "_________________________________________________________________\n",
      " Layer (type)                Output Shape              Param #   \n",
      "=================================================================\n",
      " embedding_1 (Embedding)     (None, 60, 300)           42790500  \n",
      "                                                                 \n",
      " lstm_1 (LSTM)               (None, 128)               219648    \n",
      "                                                                 \n",
      " dropout_1 (Dropout)         (None, 128)               0         \n",
      "                                                                 \n",
      " batch_normalization_1 (Batc  (None, 128)              512       \n",
      " hNormalization)                                                 \n",
      "                                                                 \n",
      " dense_1 (Dense)             (None, 1)                 129       \n",
      "                                                                 \n",
      "=================================================================\n",
      "Total params: 43,010,789\n",
      "Trainable params: 220,033\n",
      "Non-trainable params: 42,790,756\n",
      "_________________________________________________________________\n",
      "Epoch 1/10\n"
     ]
    },
    {
     "name": "stderr",
     "output_type": "stream",
     "text": [
      "c:\\Users\\yagne\\anaconda3\\envs\\common\\lib\\site-packages\\keras\\optimizer_v2\\adam.py:105: UserWarning: The `lr` argument is deprecated, use `learning_rate` instead.\n",
      "  super(Adam, self).__init__(name, **kwargs)\n"
     ]
    },
    {
     "name": "stdout",
     "output_type": "stream",
     "text": [
      "82/82 [==============================] - 32s 383ms/step - loss: 0.7018 - accuracy: 0.5591 - val_loss: 0.6602 - val_accuracy: 0.5843\n",
      "Epoch 2/10\n",
      "82/82 [==============================] - 31s 382ms/step - loss: 0.6518 - accuracy: 0.5917 - val_loss: 0.6517 - val_accuracy: 0.5987\n",
      "Epoch 3/10\n",
      "82/82 [==============================] - 30s 365ms/step - loss: 0.6389 - accuracy: 0.6075 - val_loss: 0.6519 - val_accuracy: 0.5884\n",
      "Epoch 4/10\n",
      "82/82 [==============================] - 29s 359ms/step - loss: 0.6312 - accuracy: 0.6201 - val_loss: 0.6506 - val_accuracy: 0.5925\n",
      "Epoch 5/10\n",
      "82/82 [==============================] - 29s 356ms/step - loss: 0.6231 - accuracy: 0.6315 - val_loss: 0.6514 - val_accuracy: 0.5950\n",
      "Epoch 6/10\n",
      "82/82 [==============================] - 30s 362ms/step - loss: 0.6124 - accuracy: 0.6442 - val_loss: 0.6606 - val_accuracy: 0.5876\n",
      "Epoch 7/10\n",
      "82/82 [==============================] - 29s 356ms/step - loss: 0.5996 - accuracy: 0.6592 - val_loss: 0.6658 - val_accuracy: 0.5837\n",
      "Epoch 8/10\n",
      "82/82 [==============================] - 29s 358ms/step - loss: 0.5821 - accuracy: 0.6775 - val_loss: 0.6890 - val_accuracy: 0.5740\n",
      "Epoch 9/10\n",
      "82/82 [==============================] - 29s 356ms/step - loss: 0.5641 - accuracy: 0.6958 - val_loss: 0.7026 - val_accuracy: 0.5745\n",
      "Epoch 10/10\n",
      "82/82 [==============================] - 29s 358ms/step - loss: 0.5383 - accuracy: 0.7171 - val_loss: 0.7376 - val_accuracy: 0.5671\n"
     ]
    }
   ],
   "source": [
    "# Compile the model\n",
    "optimizer = optimizers.Adam(lr=0.002, beta_1=0.9, beta_2=0.999, epsilon=None, decay=0.0, amsgrad=False)\n",
    "model.compile(optimizer=optimizer, loss='binary_crossentropy', metrics=['accuracy'])\n",
    "\n",
    "# Give a summary\n",
    "model.summary()\n",
    "\n",
    "# Train the model\n",
    "history = model.fit(data_train, label_train, validation_data=(data_val, label_val), \n",
    "          epochs=10, batch_size=1024, shuffle=True, callbacks=[early_stopping, model_checkpoint])\n"
   ]
  },
  {
   "cell_type": "code",
   "execution_count": 73,
   "metadata": {},
   "outputs": [
    {
     "name": "stdout",
     "output_type": "stream",
     "text": [
      "326/326 [==============================] - 3s 11ms/step - loss: 0.7256 - accuracy: 0.5749\n",
      "Accuracy: 57.490152\n"
     ]
    }
   ],
   "source": [
    "loss, accuracy = model.evaluate(data_test, label_test, verbose=1)\n",
    "print('Accuracy: %f' % (accuracy*100))"
   ]
  },
  {
   "cell_type": "code",
   "execution_count": 74,
   "metadata": {},
   "outputs": [
    {
     "name": "stdout",
     "output_type": "stream",
     "text": [
      "Accuracy: 57.490152\n"
     ]
    }
   ],
   "source": [
    "print('Accuracy: %f' % (accuracy*100))"
   ]
  },
  {
   "cell_type": "code",
   "execution_count": 75,
   "metadata": {},
   "outputs": [
    {
     "name": "stdout",
     "output_type": "stream",
     "text": [
      "326/326 [==============================] - 4s 10ms/step\n"
     ]
    }
   ],
   "source": [
    "y_preds = model.predict(data_test, verbose=1)"
   ]
  },
  {
   "cell_type": "code",
   "execution_count": 76,
   "metadata": {},
   "outputs": [],
   "source": [
    "test_corpus_data = np.array(corpus)[idx_test]"
   ]
  },
  {
   "cell_type": "code",
   "execution_count": 77,
   "metadata": {},
   "outputs": [
    {
     "data": {
      "text/plain": [
       "(10407,)"
      ]
     },
     "execution_count": 77,
     "metadata": {},
     "output_type": "execute_result"
    }
   ],
   "source": [
    "test_corpus_data.shape"
   ]
  },
  {
   "cell_type": "code",
   "execution_count": 61,
   "metadata": {},
   "outputs": [
    {
     "data": {
      "text/plain": [
       "array([102518,  65801,  87813, ...,  94520,  48039,  59036])"
      ]
     },
     "execution_count": 61,
     "metadata": {},
     "output_type": "execute_result"
    }
   ],
   "source": [
    "idx_test"
   ]
  },
  {
   "cell_type": "code",
   "execution_count": 59,
   "metadata": {},
   "outputs": [
    {
     "ename": "NameError",
     "evalue": "name 'y_preds' is not defined",
     "output_type": "error",
     "traceback": [
      "\u001b[1;31m---------------------------------------------------------------------------\u001b[0m",
      "\u001b[1;31mNameError\u001b[0m                                 Traceback (most recent call last)",
      "\u001b[1;32mc:\\Users\\yagne\\Desktop\\tad-dep\\word2vec.ipynb Cell 44'\u001b[0m in \u001b[0;36m<cell line: 1>\u001b[1;34m()\u001b[0m\n\u001b[1;32m----> <a href='vscode-notebook-cell:/c%3A/Users/yagne/Desktop/tad-dep/word2vec.ipynb#ch0000060?line=0'>1</a>\u001b[0m y_preds\u001b[39m.\u001b[39mshape\n",
      "\u001b[1;31mNameError\u001b[0m: name 'y_preds' is not defined"
     ]
    }
   ],
   "source": [
    "y_preds.shape"
   ]
  },
  {
   "cell_type": "code",
   "execution_count": 78,
   "metadata": {},
   "outputs": [
    {
     "data": {
      "text/plain": [
       "array([False,  True,  True, ...,  True, False, False])"
      ]
     },
     "execution_count": 78,
     "metadata": {},
     "output_type": "execute_result"
    }
   ],
   "source": [
    "y_preds[:,0] > 0.5"
   ]
  },
  {
   "cell_type": "code",
   "execution_count": 79,
   "metadata": {},
   "outputs": [
    {
     "name": "stdout",
     "output_type": "stream",
     "text": [
      "              precision    recall  f1-score   support\n",
      "\n",
      "           0       0.64      0.49      0.55      5585\n",
      "           1       0.53      0.68      0.60      4822\n",
      "\n",
      "    accuracy                           0.57     10407\n",
      "   macro avg       0.58      0.58      0.57     10407\n",
      "weighted avg       0.59      0.57      0.57     10407\n",
      "\n"
     ]
    }
   ],
   "source": [
    "print(classification_report(label_test,y_preds[:,0] > 0.5))"
   ]
  },
  {
   "cell_type": "code",
   "execution_count": null,
   "metadata": {},
   "outputs": [],
   "source": [
    "np.save(\"lstm_y_pred.npy\", (y_preds[:,0] > 0.5))\n",
    "np.save(\"lstm_y_true.npy\", data_test)"
   ]
  },
  {
   "cell_type": "code",
   "execution_count": null,
   "metadata": {},
   "outputs": [
    {
     "name": "stdout",
     "output_type": "stream",
     "text": [
      "dict_keys(['loss', 'accuracy'])\n"
     ]
    },
    {
     "data": {
      "image/png": "[encoded data removed]",
      "text/plain": [
       "<Figure size 432x288 with 1 Axes>"
      ]
     },
     "metadata": {
      "needs_background": "light"
     },
     "output_type": "display_data"
    },
    {
     "data": {
      "image/png": "[encoded data removed]",
      "text/plain": [
       "<Figure size 432x288 with 1 Axes>"
      ]
     },
     "metadata": {
      "needs_background": "light"
     },
     "output_type": "display_data"
    }
   ],
   "source": [
    "# list all data in history\n",
    "print(history.history.keys())\n",
    "# summarize history for accuracy\n",
    "plt.plot(history.history['accuracy'])\n",
    "plt.title('model accuracy')\n",
    "plt.ylabel('accuracy')\n",
    "plt.xlabel('epoch')\n",
    "plt.legend(['train', 'dev'], loc='upper left')\n",
    "plt.show()\n",
    "# summarize history for loss\n",
    "plt.plot(history.history['loss'])\n",
    "plt.title('model loss')\n",
    "plt.ylabel('loss')\n",
    "plt.xlabel('epoch')\n",
    "plt.legend(['train', 'dev'], loc='upper left')\n",
    "plt.show()"
   ]
  },
  {
   "cell_type": "code",
   "execution_count": null,
   "metadata": {},
   "outputs": [],
   "source": []
  }
 ],
 "metadata": {
  "interpreter": {
   "hash": "88bd46a81829761a1f8655c40b7d07d46ff042d1c1b2d447b6a3515fda4bcd96"
  },
  "kernelspec": {
   "display_name": "Python 3.9.12 ('common')",
   "language": "python",
   "name": "python3"
  },
  "language_info": {
   "codemirror_mode": {
    "name": "ipython",
    "version": 3
   },
   "file_extension": ".py",
   "mimetype": "text/x-python",
   "name": "python",
   "nbconvert_exporter": "python",
   "pygments_lexer": "ipython3",
   "version": "3.9.12"
  }
 },
 "nbformat": 4,
 "nbformat_minor": 2
}
