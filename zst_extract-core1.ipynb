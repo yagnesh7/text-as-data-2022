{
 "cells": [
  {
   "cell_type": "code",
   "execution_count": 1,
   "metadata": {},
   "outputs": [],
   "source": [
    "# https://www.reddit.com/r/pushshift/comments/ajmcc0/information_and_code_examples_on_how_to_use_the/ef012vk/\n",
    "\n",
    "import zstandard\n",
    "import os\n",
    "import json\n",
    "import sys\n",
    "import time\n",
    "import argparse\n",
    "from datetime import datetime\n",
    "import logging.handlers\n",
    "import multiprocessing\n",
    "import pandas as pd"
   ]
  },
  {
   "cell_type": "code",
   "execution_count": 2,
   "metadata": {},
   "outputs": [
    {
     "data": {
      "text/plain": [
       "1794"
      ]
     },
     "execution_count": 2,
     "metadata": {},
     "output_type": "execute_result"
    }
   ],
   "source": [
    "depression_users = pd.read_csv(\"../dep_users_cohort.csv\")\n",
    "year_month = \"2020-09\"\n",
    "\n",
    "dep_users = depression_users[\"author\"].tolist()\n",
    "time_users = depression_users.loc[depression_users[\"year-month\"] == year_month][\"author\"].tolist()\n",
    "len(time_users)"
   ]
  },
  {
   "cell_type": "code",
   "execution_count": 3,
   "metadata": {},
   "outputs": [
    {
     "name": "stdout",
     "output_type": "stream",
     "text": [
      "RS_2020-09.zst\n"
     ]
    }
   ],
   "source": [
    "yesdep_keep = []\n",
    "j=0\n",
    "with open(f\"RS_{year_month}.zst\", 'rb') as fh:\n",
    "    print(f\"RS_{year_month}.zst\")\n",
    "    dctx = zstandard.ZstdDecompressor(max_window_size=2147483648)\n",
    "    with dctx.stream_reader(fh) as reader:\n",
    "        previous_line = \"\"\n",
    "        while True:\n",
    "            chunk = reader.read(2**24)  # 16mb chunks\n",
    "            if not chunk:\n",
    "                break\n",
    "\n",
    "            string_data = chunk.decode('utf-8')\n",
    "            lines = string_data.split(\"\\n\")\n",
    "            for i, line in enumerate(lines[:-1]):\n",
    "                if i == 0:\n",
    "                    line = previous_line + line\n",
    "                object = json.loads(line)\n",
    "                if object[\"is_self\"]:\n",
    "                    if object[\"author\"] in time_users:\n",
    "                        yesdep_keep.append(object)\n",
    "\n",
    "            previous_line = lines[-1]"
   ]
  },
  {
   "cell_type": "code",
   "execution_count": 4,
   "metadata": {},
   "outputs": [
    {
     "name": "stdout",
     "output_type": "stream",
     "text": [
      "5258\n"
     ]
    }
   ],
   "source": [
    "print(len(yesdep_keep))\n",
    "pd.DataFrame(yesdep_keep).to_csv(f\"{year_month}-dep.csv\")"
   ]
  },
  {
   "cell_type": "code",
   "execution_count": 21,
   "metadata": {},
   "outputs": [
    {
     "name": "stdout",
     "output_type": "stream",
     "text": [
      "(2600, 89)\n",
      "(2179, 7)\n",
      "(620, 7)\n",
      "334\n"
     ]
    }
   ],
   "source": [
    "year_month = \"2020-08\"\n",
    "\n",
    "dep_subbredits = pd.read_csv(f\"{year_month}-dep.csv\")\n",
    "\n",
    "other_subreddits = dep_subbredits.loc[dep_subbredits[\"subreddit\"]!=\"depression\"]\n",
    "other_subreddits = other_subreddits.loc[~other_subreddits[\"selftext\"].isna()]\n",
    "other_subreddits = other_subreddits.loc[~other_subreddits[\"selftext\"].isnull()]\n",
    "other_subreddits = other_subreddits.loc[other_subreddits[\"selftext\"] != \"[removed]\"]\n",
    "print(other_subreddits.shape)\n",
    "other_subreddits = other_subreddits[[\"author\", \"is_self\", \"subreddit\", \"subreddit_subscribers\", \"title\", \"selftext\"]]\n",
    "\n",
    "other_subreddits = other_subreddits.sort_values(\"subreddit_subscribers\", ascending=False).reset_index(drop=True)\n",
    "\n",
    "other_subreddits[\"post_length\"] = other_subreddits[\"selftext\"].apply(lambda x: len(x.split(\" \")))\n",
    "other_subreddits = other_subreddits.loc[other_subreddits[\"post_length\"] > 20]\n",
    "print(other_subreddits.shape)\n",
    "\n",
    "most_popular_other = other_subreddits.groupby(\"author\").nth(0).reset_index()\n",
    "most_popular_other.to_csv(f\"{year_month}-yes-dep.csv\")\n",
    "print(most_popular_other.shape)\n",
    "print(most_popular_other[\"subreddit\"].nunique())\n",
    "subreddit_dict = most_popular_other.groupby(\"subreddit\").size().to_dict()\n",
    "subreddit_keys = list(subreddit_dict.keys())"
   ]
  },
  {
   "cell_type": "code",
   "execution_count": 22,
   "metadata": {},
   "outputs": [
    {
     "name": "stdout",
     "output_type": "stream",
     "text": [
      "RS_2020-08.zst\n"
     ]
    }
   ],
   "source": [
    "nondep_keep = []\n",
    "with open(f\"RS_{year_month}.zst\", 'rb') as fh:\n",
    "    print(f\"RS_{year_month}.zst\")\n",
    "    dctx = zstandard.ZstdDecompressor(max_window_size=2147483648)\n",
    "    with dctx.stream_reader(fh) as reader:\n",
    "        previous_line = \"\"\n",
    "        while True:\n",
    "            chunk = reader.read(2**24)  # 16mb chunks\n",
    "            if not chunk:\n",
    "                break\n",
    "\n",
    "            string_data = chunk.decode('utf-8')\n",
    "            lines = string_data.split(\"\\n\")\n",
    "            for i, line in enumerate(lines[:-1]):\n",
    "                if i == 0:\n",
    "                    line = previous_line + line\n",
    "                object = json.loads(line)\n",
    "\n",
    "\n",
    "                if object[\"is_self\"]:\n",
    "                    if object[\"subreddit\"] in subreddit_keys:\n",
    "                        if object[\"author\"] not in dep_users:\n",
    "                            if len(object[\"selftext\"].split(\" \")) > 20:\n",
    "                                subreddit_dict[object[\"subreddit\"]] = subreddit_dict[object[\"subreddit\"]] - 1\n",
    "                                if subreddit_dict[object[\"subreddit\"]] == 0:\n",
    "                                    subreddit_dict.pop(object[\"subreddit\"])\n",
    "                                    subreddit_keys = list(subreddit_dict.keys())\n",
    "                                nondep_keep.append(object)\n",
    "\n",
    "            previous_line = lines[-1]"
   ]
  },
  {
   "cell_type": "code",
   "execution_count": 23,
   "metadata": {},
   "outputs": [
    {
     "name": "stdout",
     "output_type": "stream",
     "text": [
      "615\n"
     ]
    }
   ],
   "source": [
    "print(len(nondep_keep))\n",
    "pd.DataFrame(nondep_keep).to_csv(f\"{year_month}-non-dep.csv\")"
   ]
  },
  {
   "cell_type": "code",
   "execution_count": null,
   "metadata": {},
   "outputs": [],
   "source": []
  },
  {
   "cell_type": "code",
   "execution_count": null,
   "metadata": {},
   "outputs": [],
   "source": []
  }
 ],
 "metadata": {
  "interpreter": {
   "hash": "2b8ad5179c5cbf4f014799a3845c0823a20ad2c56229864a15d472d8cf0fb047"
  },
  "kernelspec": {
   "display_name": "Python 3.8.5 ('base')",
   "language": "python",
   "name": "python3"
  },
  "language_info": {
   "codemirror_mode": {
    "name": "ipython",
    "version": 3
   },
   "file_extension": ".py",
   "mimetype": "text/x-python",
   "name": "python",
   "nbconvert_exporter": "python",
   "pygments_lexer": "ipython3",
   "version": "3.8.5"
  },
  "orig_nbformat": 4
 },
 "nbformat": 4,
 "nbformat_minor": 2
}
