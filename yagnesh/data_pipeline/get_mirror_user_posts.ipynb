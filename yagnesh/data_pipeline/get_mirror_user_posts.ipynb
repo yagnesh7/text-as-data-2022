{
 "cells": [
  {
   "cell_type": "code",
   "execution_count": 1,
   "metadata": {},
   "outputs": [
    {
     "name": "stdout",
     "output_type": "stream",
     "text": [
      "800\n",
      "RS_2019-07.zst\n",
      "877\n",
      "RS_2019-08.zst\n",
      "633\n",
      "RS_2019-09.zst\n",
      "624\n",
      "RS_2019-10.zst\n",
      "606\n",
      "RS_2019-11.zst\n",
      "691\n",
      "RS_2019-12.zst\n"
     ]
    }
   ],
   "source": [
    "\n",
    "import zstandard\n",
    "import json\n",
    "from datetime import datetime\n",
    "\n",
    "import pandas as pd\n",
    "\n",
    "\n",
    "years = [\"2019\"]\n",
    "months = [\"07\",\"08\",\"09\",\"10\", \"11\",\"12\"]\n",
    "\n",
    "for y in years:\n",
    "    for m in months:\n",
    "        year_month = f\"{y}-{m}\"\n",
    "\n",
    "        non_dep_cohort = pd.read_csv(f\"{year_month}-non-dep.csv\")\n",
    "        non_dep_cohort = non_dep_cohort[[\"author\", \"created_utc\",  \"is_self\", \"subreddit\", \"subreddit_subscribers\", \"title\", \"selftext\"]]\n",
    "        non_dep_cohort = non_dep_cohort.loc[~non_dep_cohort[\"author\"].isin([\"[deleted]\",\"AutoModerator\"])] \n",
    "        non_dep_users = non_dep_cohort[\"author\"].unique()\n",
    "\n",
    "        print(len(non_dep_users))\n",
    "\n",
    "        nondep_data = []\n",
    "        with open(f\"RS_{year_month}.zst\", 'rb') as fh:\n",
    "            print(f\"RS_{year_month}.zst\")\n",
    "            dctx = zstandard.ZstdDecompressor(max_window_size=2147483648)\n",
    "            with dctx.stream_reader(fh) as reader:\n",
    "                previous_line = \"\"\n",
    "                while True:\n",
    "                    chunk = reader.read(2**24)  # 16mb chunks\n",
    "                    if not chunk:\n",
    "                        break\n",
    "\n",
    "                    string_data = chunk.decode('utf-8')\n",
    "                    lines = string_data.split(\"\\n\")\n",
    "                    for i, line in enumerate(lines[:-1]):\n",
    "                        if i == 0:\n",
    "                            line = previous_line + line\n",
    "                        object = json.loads(line)\n",
    "\n",
    "                        if object[\"is_self\"]:\n",
    "                            if object[\"author\"] in non_dep_users:\n",
    "                                nondep_data.append(object)\n",
    "                    previous_line = lines[-1]\n",
    "        \n",
    "        pd.DataFrame(nondep_data).to_csv(f\"{year_month}-non-dep-data.csv\",index=False)"
   ]
  }
 ],
 "metadata": {
  "interpreter": {
   "hash": "88bd46a81829761a1f8655c40b7d07d46ff042d1c1b2d447b6a3515fda4bcd96"
  },
  "kernelspec": {
   "display_name": "Python 3.9.7 ('common')",
   "language": "python",
   "name": "python3"
  },
  "language_info": {
   "codemirror_mode": {
    "name": "ipython",
    "version": 3
   },
   "file_extension": ".py",
   "mimetype": "text/x-python",
   "name": "python",
   "nbconvert_exporter": "python",
   "pygments_lexer": "ipython3",
   "version": "3.9.7"
  },
  "orig_nbformat": 4
 },
 "nbformat": 4,
 "nbformat_minor": 2
}
