{
 "cells": [
  {
   "cell_type": "code",
   "execution_count": 1,
   "metadata": {},
   "outputs": [],
   "source": [
    "import requests\n",
    "from datetime import datetime, timedelta\n",
    "import traceback\n",
    "import time\n",
    "import json\n",
    "import sys\n",
    "import pandas as pd\n",
    "import random\n",
    "import numpy as np\n",
    "\n",
    "# https://github.com/Watchful1/Sketchpad/blob/master/postDownloader.py"
   ]
  },
  {
   "cell_type": "code",
   "execution_count": null,
   "metadata": {},
   "outputs": [
    {
     "data": {
      "text/html": [
       "<div>\n",
       "<style scoped>\n",
       "    .dataframe tbody tr th:only-of-type {\n",
       "        vertical-align: middle;\n",
       "    }\n",
       "\n",
       "    .dataframe tbody tr th {\n",
       "        vertical-align: top;\n",
       "    }\n",
       "\n",
       "    .dataframe thead th {\n",
       "        text-align: right;\n",
       "    }\n",
       "</style>\n",
       "<table border=\"1\" class=\"dataframe\">\n",
       "  <thead>\n",
       "    <tr style=\"text-align: right;\">\n",
       "      <th></th>\n",
       "      <th>author</th>\n",
       "      <th>year-month</th>\n",
       "      <th>is_self</th>\n",
       "      <th>subreddit</th>\n",
       "      <th>subreddit_subscribers</th>\n",
       "      <th>title</th>\n",
       "      <th>selftext</th>\n",
       "      <th>post_length</th>\n",
       "      <th>depressed</th>\n",
       "    </tr>\n",
       "  </thead>\n",
       "  <tbody>\n",
       "    <tr>\n",
       "      <th>0</th>\n",
       "      <td>--liveitup</td>\n",
       "      <td>2019-01</td>\n",
       "      <td>True</td>\n",
       "      <td>hacking</td>\n",
       "      <td>647687</td>\n",
       "      <td>Hulu account hacked. Genuinely interested in h...</td>\n",
       "      <td>Secure wifi, only use Hulu through a Roku stic...</td>\n",
       "      <td>183</td>\n",
       "      <td>1</td>\n",
       "    </tr>\n",
       "    <tr>\n",
       "      <th>1</th>\n",
       "      <td>-RL-Lokei</td>\n",
       "      <td>2019-01</td>\n",
       "      <td>True</td>\n",
       "      <td>starcitizen</td>\n",
       "      <td>148021</td>\n",
       "      <td>Yela jumptown/ druglab location</td>\n",
       "      <td>Hi all,\\n\\nBefore you refer me onto videos of ...</td>\n",
       "      <td>64</td>\n",
       "      <td>1</td>\n",
       "    </tr>\n",
       "    <tr>\n",
       "      <th>2</th>\n",
       "      <td>-aegon-</td>\n",
       "      <td>2019-01</td>\n",
       "      <td>True</td>\n",
       "      <td>Judaism</td>\n",
       "      <td>29423</td>\n",
       "      <td>Advice for a poor convert-to-be?</td>\n",
       "      <td>How can I tell my religious Christian family t...</td>\n",
       "      <td>44</td>\n",
       "      <td>1</td>\n",
       "    </tr>\n",
       "    <tr>\n",
       "      <th>3</th>\n",
       "      <td>0haltja16</td>\n",
       "      <td>2019-01</td>\n",
       "      <td>True</td>\n",
       "      <td>confession</td>\n",
       "      <td>1149851</td>\n",
       "      <td>I cheated on a 5 year old’s AR tests</td>\n",
       "      <td>In grade school the older kids were forced to ...</td>\n",
       "      <td>115</td>\n",
       "      <td>1</td>\n",
       "    </tr>\n",
       "    <tr>\n",
       "      <th>4</th>\n",
       "      <td>101kbye</td>\n",
       "      <td>2019-01</td>\n",
       "      <td>True</td>\n",
       "      <td>AskWomenOver30</td>\n",
       "      <td>31874</td>\n",
       "      <td>Has anyone taken a sabbatical and what was rea...</td>\n",
       "      <td>I’m not burnt out at work but I want a 3 month...</td>\n",
       "      <td>174</td>\n",
       "      <td>1</td>\n",
       "    </tr>\n",
       "    <tr>\n",
       "      <th>...</th>\n",
       "      <td>...</td>\n",
       "      <td>...</td>\n",
       "      <td>...</td>\n",
       "      <td>...</td>\n",
       "      <td>...</td>\n",
       "      <td>...</td>\n",
       "      <td>...</td>\n",
       "      <td>...</td>\n",
       "      <td>...</td>\n",
       "    </tr>\n",
       "    <tr>\n",
       "      <th>637</th>\n",
       "      <td>teymourbeydoun</td>\n",
       "      <td>2020-12</td>\n",
       "      <td>True</td>\n",
       "      <td>Inception</td>\n",
       "      <td>7370</td>\n",
       "      <td>Am I missing Behind-the-Scenes footage on Blu-...</td>\n",
       "      <td>Hello, I’ve just bought the 4K UHD Christopher...</td>\n",
       "      <td>69</td>\n",
       "      <td>0</td>\n",
       "    </tr>\n",
       "    <tr>\n",
       "      <th>638</th>\n",
       "      <td>HoopsFella</td>\n",
       "      <td>2020-12</td>\n",
       "      <td>True</td>\n",
       "      <td>NBAtradeideas</td>\n",
       "      <td>936</td>\n",
       "      <td>Surprise Harden Destinations</td>\n",
       "      <td>Curious where people think Harden could end up...</td>\n",
       "      <td>123</td>\n",
       "      <td>0</td>\n",
       "    </tr>\n",
       "    <tr>\n",
       "      <th>639</th>\n",
       "      <td>friedshrimpt</td>\n",
       "      <td>2020-12</td>\n",
       "      <td>True</td>\n",
       "      <td>Pratt</td>\n",
       "      <td>490</td>\n",
       "      <td>Is Pratt requiring ACT scores?</td>\n",
       "      <td>My score is very low (23). My gpa is a weighte...</td>\n",
       "      <td>31</td>\n",
       "      <td>0</td>\n",
       "    </tr>\n",
       "    <tr>\n",
       "      <th>640</th>\n",
       "      <td>zorbsthegreat</td>\n",
       "      <td>2020-12</td>\n",
       "      <td>True</td>\n",
       "      <td>MRKH</td>\n",
       "      <td>288</td>\n",
       "      <td>Tracking Hormonal Cycles and mood shifts with ...</td>\n",
       "      <td>I have been diagnoses since 17 and Im 23 now, ...</td>\n",
       "      <td>194</td>\n",
       "      <td>0</td>\n",
       "    </tr>\n",
       "    <tr>\n",
       "      <th>641</th>\n",
       "      <td>destructionator10</td>\n",
       "      <td>2020-12</td>\n",
       "      <td>True</td>\n",
       "      <td>nightterrors</td>\n",
       "      <td>987</td>\n",
       "      <td>Lost girlfriend cause of night terror</td>\n",
       "      <td>I had just met this amazing girl.  She was sma...</td>\n",
       "      <td>173</td>\n",
       "      <td>0</td>\n",
       "    </tr>\n",
       "  </tbody>\n",
       "</table>\n",
       "<p>34795 rows × 9 columns</p>\n",
       "</div>"
      ],
      "text/plain": [
       "                author year-month  is_self       subreddit  \\\n",
       "0           --liveitup    2019-01     True         hacking   \n",
       "1            -RL-Lokei    2019-01     True     starcitizen   \n",
       "2              -aegon-    2019-01     True         Judaism   \n",
       "3            0haltja16    2019-01     True      confession   \n",
       "4              101kbye    2019-01     True  AskWomenOver30   \n",
       "..                 ...        ...      ...             ...   \n",
       "637     teymourbeydoun    2020-12     True       Inception   \n",
       "638         HoopsFella    2020-12     True   NBAtradeideas   \n",
       "639       friedshrimpt    2020-12     True           Pratt   \n",
       "640      zorbsthegreat    2020-12     True            MRKH   \n",
       "641  destructionator10    2020-12     True    nightterrors   \n",
       "\n",
       "     subreddit_subscribers                                              title  \\\n",
       "0                   647687  Hulu account hacked. Genuinely interested in h...   \n",
       "1                   148021                    Yela jumptown/ druglab location   \n",
       "2                    29423                   Advice for a poor convert-to-be?   \n",
       "3                  1149851               I cheated on a 5 year old’s AR tests   \n",
       "4                    31874  Has anyone taken a sabbatical and what was rea...   \n",
       "..                     ...                                                ...   \n",
       "637                   7370  Am I missing Behind-the-Scenes footage on Blu-...   \n",
       "638                    936                       Surprise Harden Destinations   \n",
       "639                    490                     Is Pratt requiring ACT scores?   \n",
       "640                    288  Tracking Hormonal Cycles and mood shifts with ...   \n",
       "641                    987              Lost girlfriend cause of night terror   \n",
       "\n",
       "                                              selftext  post_length  depressed  \n",
       "0    Secure wifi, only use Hulu through a Roku stic...          183          1  \n",
       "1    Hi all,\\n\\nBefore you refer me onto videos of ...           64          1  \n",
       "2    How can I tell my religious Christian family t...           44          1  \n",
       "3    In grade school the older kids were forced to ...          115          1  \n",
       "4    I’m not burnt out at work but I want a 3 month...          174          1  \n",
       "..                                                 ...          ...        ...  \n",
       "637  Hello, I’ve just bought the 4K UHD Christopher...           69          0  \n",
       "638  Curious where people think Harden could end up...          123          0  \n",
       "639  My score is very low (23). My gpa is a weighte...           31          0  \n",
       "640  I have been diagnoses since 17 and Im 23 now, ...          194          0  \n",
       "641  I had just met this amazing girl.  She was sma...          173          0  \n",
       "\n",
       "[34795 rows x 9 columns]"
      ]
     },
     "metadata": {},
     "output_type": "display_data"
    }
   ],
   "source": [
    "results = []\n",
    "i = 0\n",
    "fields = [\"author\",\"author_fullname\",\"created_utc\",\"domain\",\"is_self\",\"title\",\"selftext\"]\n",
    "\n",
    "start = datetime(2019,1,1)\n",
    "\n",
    "while start <= datetime(2020,12,31):\n",
    "\n",
    "    time.sleep(round(random.random()*5,2))\n",
    "    \n",
    "    end = start + timedelta(days=1)\n",
    "    print(start,end)\n",
    "\n",
    "    start_s = int(start.timestamp())\n",
    "    end_s = int(end.timestamp())\n",
    "\n",
    "    url = f\"https://api.pushshift.io/reddit/search/submission/?subreddit=depression&after={start_s}&before={end_s}&size=100\"\n",
    "    r = requests.get(url)\n",
    "    data = json.loads(r.text)[\"data\"]\n",
    "    for d in data:\n",
    "        record = {}\n",
    "        for f in fields:\n",
    "            try:\n",
    "                record[f] = d[f]\n",
    "            except:\n",
    "                record[f] = None \n",
    "        results.append(record)\n",
    "\n",
    "    start = end\n",
    "    i+=1"
   ]
  },
  {
   "cell_type": "code",
   "execution_count": 12,
   "metadata": {},
   "outputs": [],
   "source": [
    "# pd.DataFrame(results).to_csv(f\"depression_users.psv\", sep=\"|\")\n",
    "pd.DataFrame(results).to_csv(f\"dep_users.csv\")"
   ]
  },
  {
   "cell_type": "code",
   "execution_count": 2,
   "metadata": {},
   "outputs": [],
   "source": [
    "dep_users = pd.read_csv(\"dep_users.csv\")"
   ]
  },
  {
   "cell_type": "code",
   "execution_count": 3,
   "metadata": {},
   "outputs": [
    {
     "data": {
      "text/plain": [
       "51828"
      ]
     },
     "execution_count": 3,
     "metadata": {},
     "output_type": "execute_result"
    }
   ],
   "source": [
    "dep_users['author'].nunique()"
   ]
  },
  {
   "cell_type": "code",
   "execution_count": 6,
   "metadata": {},
   "outputs": [
    {
     "data": {
      "text/plain": [
       "array([2., 3., 7.])"
      ]
     },
     "execution_count": 6,
     "metadata": {},
     "output_type": "execute_result"
    }
   ],
   "source": [
    "author_counts = dep_users['author'].value_counts().reset_index().sort_values(by=\"author\", ascending=False)\n",
    "author_counts.columns = [\"author\",\"count\"]\n",
    "np.quantile(author_counts[\"count\"], q=[0.9, 0.95, 0.99])"
   ]
  },
  {
   "cell_type": "code",
   "execution_count": 7,
   "metadata": {},
   "outputs": [],
   "source": [
    "author_counts = author_counts.loc[author_counts[\"count\"] <= 3]"
   ]
  },
  {
   "cell_type": "code",
   "execution_count": 8,
   "metadata": {},
   "outputs": [
    {
     "data": {
      "text/plain": [
       "49849"
      ]
     },
     "execution_count": 8,
     "metadata": {},
     "output_type": "execute_result"
    }
   ],
   "source": [
    "author_counts['author'].nunique()"
   ]
  },
  {
   "cell_type": "code",
   "execution_count": 35,
   "metadata": {},
   "outputs": [],
   "source": [
    "dep_users_filt = dep_users.merge(author_counts, how=\"inner\", on=\"author\")\n",
    "dep_users_filt = dep_users_filt.loc[dep_users_filt[\"selftext\"] !=\"[removed]\"]\n",
    "dep_users_filt = dep_users_filt[[\"author\",\"author_fullname\",\"created_utc\", \"domain\", \"is_self\", \"title\", \"selftext\",\"count\"]]\n",
    "\n",
    "dep_users_filte"
   ]
  },
  {
   "cell_type": "code",
   "execution_count": 45,
   "metadata": {},
   "outputs": [],
   "source": [
    "dep_users_filt[\"year\"] = dep_users_filt[\"created_utc\"].apply(lambda x: datetime.fromtimestamp(x).year)\n",
    "dep_users_filt[\"month\"] = dep_users_filt[\"created_utc\"].apply(lambda x: datetime.fromtimestamp(x).month)\n",
    "dep_users_filt[\"year-month\"] = dep_users_filt.apply(lambda x: f\"{x['year']}-{str(x['month']).zfill(2)}\", axis=1)\n",
    "dep_users_single = dep_users_filt.groupby(\"author\").first().reset_index()"
   ]
  },
  {
   "cell_type": "code",
   "execution_count": 46,
   "metadata": {},
   "outputs": [],
   "source": [
    "dep_users_single.to_csv(\"dep_users_cohort.csv\")"
   ]
  }
 ],
 "metadata": {
  "interpreter": {
   "hash": "88bd46a81829761a1f8655c40b7d07d46ff042d1c1b2d447b6a3515fda4bcd96"
  },
  "kernelspec": {
   "display_name": "Python 3.9.12 ('common')",
   "language": "python",
   "name": "python3"
  },
  "language_info": {
   "codemirror_mode": {
    "name": "ipython",
    "version": 3
   },
   "file_extension": ".py",
   "mimetype": "text/x-python",
   "name": "python",
   "nbconvert_exporter": "python",
   "pygments_lexer": "ipython3",
   "version": "3.9.12"
  },
  "orig_nbformat": 4
 },
 "nbformat": 4,
 "nbformat_minor": 2
}
